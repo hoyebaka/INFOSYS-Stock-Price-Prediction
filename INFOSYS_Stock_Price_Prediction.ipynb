{
  "nbformat": 4,
  "nbformat_minor": 0,
  "metadata": {
    "colab": {
      "name": "INFOSYS Stock Price Prediction.ipynb",
      "provenance": [],
      "collapsed_sections": []
    },
    "kernelspec": {
      "name": "python3",
      "display_name": "Python 3"
    }
  },
  "cells": [
    {
      "cell_type": "markdown",
      "metadata": {
        "id": "9gCcKRXSVcrB",
        "colab_type": "text"
      },
      "source": [
        "**Importing Required Libraries**"
      ]
    },
    {
      "cell_type": "code",
      "metadata": {
        "id": "WuYA-0c3HMjU",
        "colab_type": "code",
        "colab": {}
      },
      "source": [
        "import pandas as pd\n",
        "import numpy as np\n",
        "import datetime as dt\n",
        "from datetime import datetime\n",
        "\n",
        "import matplotlib.pyplot as plt\n",
        "\n",
        "import numpy as np\n",
        "\n",
        "from sklearn.preprocessing import MinMaxScaler\n",
        "\n",
        "### Create the Stacked LSTM model\n",
        "from tensorflow.keras.models import Sequential\n",
        "from tensorflow.keras.layers import Dense\n",
        "from tensorflow.keras.layers import LSTM\n",
        "from keras.layers import Dropout"
      ],
      "execution_count": 27,
      "outputs": []
    },
    {
      "cell_type": "markdown",
      "metadata": {
        "id": "kJ4v-LOyVs7O",
        "colab_type": "text"
      },
      "source": [
        "**Reading the dataset**"
      ]
    },
    {
      "cell_type": "code",
      "metadata": {
        "id": "xYKKz96YHcwZ",
        "colab_type": "code",
        "colab": {
          "base_uri": "https://localhost:8080/",
          "height": 326
        },
        "outputId": "fb85ed18-4ec0-4738-8c26-3c404f2f7cf0"
      },
      "source": [
        "#read the file\n",
        "df = pd.read_csv(\"/content/datasets_423609_1456925_INFY.csv\")\n",
        "\n",
        "#print the head\n",
        "df.head()"
      ],
      "execution_count": 28,
      "outputs": [
        {
          "output_type": "execute_result",
          "data": {
            "text/html": [
              "<div>\n",
              "<style scoped>\n",
              "    .dataframe tbody tr th:only-of-type {\n",
              "        vertical-align: middle;\n",
              "    }\n",
              "\n",
              "    .dataframe tbody tr th {\n",
              "        vertical-align: top;\n",
              "    }\n",
              "\n",
              "    .dataframe thead th {\n",
              "        text-align: right;\n",
              "    }\n",
              "</style>\n",
              "<table border=\"1\" class=\"dataframe\">\n",
              "  <thead>\n",
              "    <tr style=\"text-align: right;\">\n",
              "      <th></th>\n",
              "      <th>Date</th>\n",
              "      <th>Symbol</th>\n",
              "      <th>Series</th>\n",
              "      <th>Prev Close</th>\n",
              "      <th>Open</th>\n",
              "      <th>High</th>\n",
              "      <th>Low</th>\n",
              "      <th>Last</th>\n",
              "      <th>Close</th>\n",
              "      <th>VWAP</th>\n",
              "      <th>Volume</th>\n",
              "      <th>Turnover</th>\n",
              "      <th>Trades</th>\n",
              "      <th>Deliverable Volume</th>\n",
              "      <th>%Deliverble</th>\n",
              "    </tr>\n",
              "  </thead>\n",
              "  <tbody>\n",
              "    <tr>\n",
              "      <th>0</th>\n",
              "      <td>2000-01-03</td>\n",
              "      <td>INFOSYSTCH</td>\n",
              "      <td>EQ</td>\n",
              "      <td>14467.75</td>\n",
              "      <td>15625.00</td>\n",
              "      <td>15625.20</td>\n",
              "      <td>15625.00</td>\n",
              "      <td>15625.20</td>\n",
              "      <td>15625.20</td>\n",
              "      <td>15625.18</td>\n",
              "      <td>5137</td>\n",
              "      <td>8.026657e+12</td>\n",
              "      <td>NaN</td>\n",
              "      <td>NaN</td>\n",
              "      <td>NaN</td>\n",
              "    </tr>\n",
              "    <tr>\n",
              "      <th>1</th>\n",
              "      <td>2000-01-04</td>\n",
              "      <td>INFOSYSTCH</td>\n",
              "      <td>EQ</td>\n",
              "      <td>15625.20</td>\n",
              "      <td>16800.00</td>\n",
              "      <td>16875.25</td>\n",
              "      <td>16253.00</td>\n",
              "      <td>16875.25</td>\n",
              "      <td>16855.90</td>\n",
              "      <td>16646.38</td>\n",
              "      <td>56186</td>\n",
              "      <td>9.352937e+13</td>\n",
              "      <td>NaN</td>\n",
              "      <td>NaN</td>\n",
              "      <td>NaN</td>\n",
              "    </tr>\n",
              "    <tr>\n",
              "      <th>2</th>\n",
              "      <td>2000-01-05</td>\n",
              "      <td>INFOSYSTCH</td>\n",
              "      <td>EQ</td>\n",
              "      <td>16855.90</td>\n",
              "      <td>15701.00</td>\n",
              "      <td>16250.00</td>\n",
              "      <td>15507.45</td>\n",
              "      <td>15507.45</td>\n",
              "      <td>15507.45</td>\n",
              "      <td>15786.38</td>\n",
              "      <td>164605</td>\n",
              "      <td>2.598516e+14</td>\n",
              "      <td>NaN</td>\n",
              "      <td>NaN</td>\n",
              "      <td>NaN</td>\n",
              "    </tr>\n",
              "    <tr>\n",
              "      <th>3</th>\n",
              "      <td>2000-01-06</td>\n",
              "      <td>INFOSYSTCH</td>\n",
              "      <td>EQ</td>\n",
              "      <td>15507.45</td>\n",
              "      <td>15256.65</td>\n",
              "      <td>15300.00</td>\n",
              "      <td>14266.85</td>\n",
              "      <td>14266.85</td>\n",
              "      <td>14266.85</td>\n",
              "      <td>14462.82</td>\n",
              "      <td>81997</td>\n",
              "      <td>1.185908e+14</td>\n",
              "      <td>NaN</td>\n",
              "      <td>NaN</td>\n",
              "      <td>NaN</td>\n",
              "    </tr>\n",
              "    <tr>\n",
              "      <th>4</th>\n",
              "      <td>2000-01-07</td>\n",
              "      <td>INFOSYSTCH</td>\n",
              "      <td>EQ</td>\n",
              "      <td>14266.85</td>\n",
              "      <td>13125.50</td>\n",
              "      <td>13125.50</td>\n",
              "      <td>13125.50</td>\n",
              "      <td>13125.50</td>\n",
              "      <td>13125.50</td>\n",
              "      <td>13125.50</td>\n",
              "      <td>7589</td>\n",
              "      <td>9.960942e+12</td>\n",
              "      <td>NaN</td>\n",
              "      <td>NaN</td>\n",
              "      <td>NaN</td>\n",
              "    </tr>\n",
              "  </tbody>\n",
              "</table>\n",
              "</div>"
            ],
            "text/plain": [
              "         Date      Symbol Series  ...  Trades  Deliverable Volume  %Deliverble\n",
              "0  2000-01-03  INFOSYSTCH     EQ  ...     NaN                 NaN          NaN\n",
              "1  2000-01-04  INFOSYSTCH     EQ  ...     NaN                 NaN          NaN\n",
              "2  2000-01-05  INFOSYSTCH     EQ  ...     NaN                 NaN          NaN\n",
              "3  2000-01-06  INFOSYSTCH     EQ  ...     NaN                 NaN          NaN\n",
              "4  2000-01-07  INFOSYSTCH     EQ  ...     NaN                 NaN          NaN\n",
              "\n",
              "[5 rows x 15 columns]"
            ]
          },
          "metadata": {
            "tags": []
          },
          "execution_count": 28
        }
      ]
    },
    {
      "cell_type": "markdown",
      "metadata": {
        "id": "srsTbwMLV4_q",
        "colab_type": "text"
      },
      "source": [
        "**Setting Date as Index. Using Close Price for prediction**"
      ]
    },
    {
      "cell_type": "code",
      "metadata": {
        "id": "P8b_V0gCIKs4",
        "colab_type": "code",
        "colab": {
          "base_uri": "https://localhost:8080/",
          "height": 410
        },
        "outputId": "4ed3f011-313a-4aff-978e-f259dbc391d9"
      },
      "source": [
        "#setting index as date\n",
        "df['Date'] = pd.to_datetime(df.Date,format='%Y-%m-%d')\n",
        "df.index = df['Date']\n",
        "\n",
        "#plot\n",
        "plt.figure(figsize=(20,8))\n",
        "plt.plot(df['Close'], label='Historical Close Price')"
      ],
      "execution_count": 29,
      "outputs": [
        {
          "output_type": "execute_result",
          "data": {
            "text/plain": [
              "[<matplotlib.lines.Line2D at 0x7f0625ed59e8>]"
            ]
          },
          "metadata": {
            "tags": []
          },
          "execution_count": 29
        },
        {
          "output_type": "display_data",
          "data": {
            "image/png": "[encoded data removed]",
            "text/plain": [
              "<Figure size 1440x576 with 1 Axes>"
            ]
          },
          "metadata": {
            "tags": [],
            "needs_background": "light"
          }
        }
      ]
    },
    {
      "cell_type": "markdown",
      "metadata": {
        "id": "flAFeZwsWHLv",
        "colab_type": "text"
      },
      "source": [
        "**Selecting Close Price as feature and removing other columns from the data**"
      ]
    },
    {
      "cell_type": "code",
      "metadata": {
        "id": "NDt_3UK1IXN0",
        "colab_type": "code",
        "colab": {}
      },
      "source": [
        "features = [\"Date\", \"Close\"]\n",
        "all_data = df[features]"
      ],
      "execution_count": 30,
      "outputs": []
    },
    {
      "cell_type": "code",
      "metadata": {
        "id": "bjuGNI5GIblH",
        "colab_type": "code",
        "colab": {
          "base_uri": "https://localhost:8080/",
          "height": 122
        },
        "outputId": "488be6cf-64e4-465b-d709-2ffc33f64d2c"
      },
      "source": [
        "#setting index\n",
        "all_data.index = all_data.Date\n",
        "all_data.drop('Date', axis=1, inplace=True)"
      ],
      "execution_count": 31,
      "outputs": [
        {
          "output_type": "stream",
          "text": [
            "/usr/local/lib/python3.6/dist-packages/pandas/core/frame.py:3997: SettingWithCopyWarning: \n",
            "A value is trying to be set on a copy of a slice from a DataFrame\n",
            "\n",
            "See the caveats in the documentation: https://pandas.pydata.org/pandas-docs/stable/user_guide/indexing.html#returning-a-view-versus-a-copy\n",
            "  errors=errors,\n"
          ],
          "name": "stderr"
        }
      ]
    },
    {
      "cell_type": "code",
      "metadata": {
        "id": "ZeisGCn6IePf",
        "colab_type": "code",
        "colab": {
          "base_uri": "https://localhost:8080/",
          "height": 235
        },
        "outputId": "037aa7e5-b000-4a69-be1a-067efa58ad36"
      },
      "source": [
        "all_data.head()"
      ],
      "execution_count": 32,
      "outputs": [
        {
          "output_type": "execute_result",
          "data": {
            "text/html": [
              "<div>\n",
              "<style scoped>\n",
              "    .dataframe tbody tr th:only-of-type {\n",
              "        vertical-align: middle;\n",
              "    }\n",
              "\n",
              "    .dataframe tbody tr th {\n",
              "        vertical-align: top;\n",
              "    }\n",
              "\n",
              "    .dataframe thead th {\n",
              "        text-align: right;\n",
              "    }\n",
              "</style>\n",
              "<table border=\"1\" class=\"dataframe\">\n",
              "  <thead>\n",
              "    <tr style=\"text-align: right;\">\n",
              "      <th></th>\n",
              "      <th>Close</th>\n",
              "    </tr>\n",
              "    <tr>\n",
              "      <th>Date</th>\n",
              "      <th></th>\n",
              "    </tr>\n",
              "  </thead>\n",
              "  <tbody>\n",
              "    <tr>\n",
              "      <th>2000-01-03</th>\n",
              "      <td>15625.20</td>\n",
              "    </tr>\n",
              "    <tr>\n",
              "      <th>2000-01-04</th>\n",
              "      <td>16855.90</td>\n",
              "    </tr>\n",
              "    <tr>\n",
              "      <th>2000-01-05</th>\n",
              "      <td>15507.45</td>\n",
              "    </tr>\n",
              "    <tr>\n",
              "      <th>2000-01-06</th>\n",
              "      <td>14266.85</td>\n",
              "    </tr>\n",
              "    <tr>\n",
              "      <th>2000-01-07</th>\n",
              "      <td>13125.50</td>\n",
              "    </tr>\n",
              "  </tbody>\n",
              "</table>\n",
              "</div>"
            ],
            "text/plain": [
              "               Close\n",
              "Date                \n",
              "2000-01-03  15625.20\n",
              "2000-01-04  16855.90\n",
              "2000-01-05  15507.45\n",
              "2000-01-06  14266.85\n",
              "2000-01-07  13125.50"
            ]
          },
          "metadata": {
            "tags": []
          },
          "execution_count": 32
        }
      ]
    },
    {
      "cell_type": "code",
      "metadata": {
        "id": "ft2toweiIqCh",
        "colab_type": "code",
        "colab": {
          "base_uri": "https://localhost:8080/",
          "height": 34
        },
        "outputId": "d2518468-d881-44fc-c54d-275880839221"
      },
      "source": [
        "all_data.shape"
      ],
      "execution_count": 33,
      "outputs": [
        {
          "output_type": "execute_result",
          "data": {
            "text/plain": [
              "(5141, 1)"
            ]
          },
          "metadata": {
            "tags": []
          },
          "execution_count": 33
        }
      ]
    },
    {
      "cell_type": "code",
      "metadata": {
        "id": "HdeUtzelIxpF",
        "colab_type": "code",
        "colab": {}
      },
      "source": [
        "#creating training and validation sets\n",
        "dataset = all_data.values\n",
        "\n",
        "train = dataset[2000:4500,:]\n",
        "valid = dataset[4500:,:]"
      ],
      "execution_count": 34,
      "outputs": []
    },
    {
      "cell_type": "markdown",
      "metadata": {
        "id": "W3h50Q6GWQIb",
        "colab_type": "text"
      },
      "source": [
        "**Feature Scaling**"
      ]
    },
    {
      "cell_type": "code",
      "metadata": {
        "id": "cG-_E0AXI0tC",
        "colab_type": "code",
        "colab": {}
      },
      "source": [
        "scaler = MinMaxScaler(feature_range=(0, 1))\n",
        "scaled_data = scaler.fit_transform(dataset)"
      ],
      "execution_count": 35,
      "outputs": []
    },
    {
      "cell_type": "markdown",
      "metadata": {
        "id": "mrCplrTVWWBX",
        "colab_type": "text"
      },
      "source": [
        "**Creating Sliding Window of 90 days**"
      ]
    },
    {
      "cell_type": "code",
      "metadata": {
        "id": "DnFlR9x0JC4o",
        "colab_type": "code",
        "colab": {}
      },
      "source": [
        "x_train, y_train = [], []\n",
        "for i in range(90,len(train)):\n",
        "    x_train.append(scaled_data[i-90:i,0])\n",
        "    y_train.append(scaled_data[i,0])\n",
        "x_train, y_train = np.array(x_train), np.array(y_train)"
      ],
      "execution_count": 36,
      "outputs": []
    },
    {
      "cell_type": "markdown",
      "metadata": {
        "id": "2mGUtDNXWbqm",
        "colab_type": "text"
      },
      "source": [
        "**Data Reshaping**"
      ]
    },
    {
      "cell_type": "code",
      "metadata": {
        "id": "UA71maxkJMjg",
        "colab_type": "code",
        "colab": {}
      },
      "source": [
        "x_train = np.reshape(x_train, (x_train.shape[0],x_train.shape[1],1))"
      ],
      "execution_count": 37,
      "outputs": []
    },
    {
      "cell_type": "markdown",
      "metadata": {
        "id": "NOiain6WWgxF",
        "colab_type": "text"
      },
      "source": [
        "**Model Building**\n",
        "\n",
        "Initializing the LSTM model and 2nd, 3rd and 4th LSTM layer each with a Dropout Layer. The layers contain 50 neurons and with a Dropout rate of 20%, twenty percent of 50 neurons will be ignored randomly during each iteration\n",
        "\n",
        "Finally, an output layer is added with 1 as an output dimension (as we are predicting the close price)"
      ]
    },
    {
      "cell_type": "code",
      "metadata": {
        "id": "hhno4t4zJPo3",
        "colab_type": "code",
        "colab": {}
      },
      "source": [
        "# create and fit the LSTM network\n",
        "model = Sequential()\n",
        "model.add(LSTM(units=50, return_sequences=True, input_shape=(x_train.shape[1],1)))\n",
        "model.add(Dropout(rate = 0.2))\n",
        "\n",
        "model.add(LSTM(units=50, return_sequences = True))\n",
        "model.add(Dropout(rate = 0.2))\n",
        "\n",
        "model.add(LSTM(units=50, return_sequences = True))\n",
        "model.add(Dropout(rate = 0.2))\n",
        "\n",
        "model.add(LSTM(units=50, return_sequences = False))\n",
        "model.add(Dropout(rate = 0.2))\n",
        "\n",
        "model.add(Dense(1))"
      ],
      "execution_count": 38,
      "outputs": []
    },
    {
      "cell_type": "markdown",
      "metadata": {
        "id": "DbZDcxBhWrwa",
        "colab_type": "text"
      },
      "source": [
        "Compiling the model with **Stochastic Gradient Descent** algorithm\n",
        "\n",
        "Using Mean Squared Error as Loss Function"
      ]
    },
    {
      "cell_type": "code",
      "metadata": {
        "id": "x6m8DKnkJTJv",
        "colab_type": "code",
        "colab": {}
      },
      "source": [
        "model.compile(loss='mean_squared_error', optimizer='adam')"
      ],
      "execution_count": 39,
      "outputs": []
    },
    {
      "cell_type": "code",
      "metadata": {
        "id": "9ocIG6ooJWNz",
        "colab_type": "code",
        "colab": {
          "base_uri": "https://localhost:8080/",
          "height": 1000
        },
        "outputId": "74384e3e-d4e0-47d5-a301-86a630a4aed2"
      },
      "source": [
        "model.fit(x_train, y_train, epochs=100, batch_size=64, verbose=1)"
      ],
      "execution_count": 40,
      "outputs": [
        {
          "output_type": "stream",
          "text": [
            "Epoch 1/100\n",
            "38/38 [==============================] - 8s 202ms/step - loss: 0.0051\n",
            "Epoch 2/100\n",
            "38/38 [==============================] - 8s 202ms/step - loss: 0.0014\n",
            "Epoch 3/100\n",
            "38/38 [==============================] - 8s 199ms/step - loss: 0.0012\n",
            "Epoch 4/100\n",
            "38/38 [==============================] - 8s 207ms/step - loss: 0.0011\n",
            "Epoch 5/100\n",
            "38/38 [==============================] - 8s 207ms/step - loss: 9.8862e-04\n",
            "Epoch 6/100\n",
            "38/38 [==============================] - 8s 200ms/step - loss: 0.0010\n",
            "Epoch 7/100\n",
            "38/38 [==============================] - 8s 204ms/step - loss: 9.8929e-04\n",
            "Epoch 8/100\n",
            "38/38 [==============================] - 8s 202ms/step - loss: 9.2591e-04\n",
            "Epoch 9/100\n",
            "38/38 [==============================] - 8s 205ms/step - loss: 8.8854e-04\n",
            "Epoch 10/100\n",
            "38/38 [==============================] - 8s 206ms/step - loss: 7.8317e-04\n",
            "Epoch 11/100\n",
            "38/38 [==============================] - 8s 200ms/step - loss: 7.4112e-04\n",
            "Epoch 12/100\n",
            "38/38 [==============================] - 8s 208ms/step - loss: 6.7014e-04\n",
            "Epoch 13/100\n",
            "38/38 [==============================] - 8s 200ms/step - loss: 6.9579e-04\n",
            "Epoch 14/100\n",
            "38/38 [==============================] - 8s 203ms/step - loss: 6.3738e-04\n",
            "Epoch 15/100\n",
            "38/38 [==============================] - 8s 204ms/step - loss: 7.1860e-04\n",
            "Epoch 16/100\n",
            "38/38 [==============================] - 8s 205ms/step - loss: 6.4814e-04\n",
            "Epoch 17/100\n",
            "38/38 [==============================] - 8s 205ms/step - loss: 6.3217e-04\n",
            "Epoch 18/100\n",
            "38/38 [==============================] - 8s 205ms/step - loss: 6.9487e-04\n",
            "Epoch 19/100\n",
            "38/38 [==============================] - 8s 205ms/step - loss: 5.6569e-04\n",
            "Epoch 20/100\n",
            "38/38 [==============================] - 8s 203ms/step - loss: 5.9407e-04\n",
            "Epoch 21/100\n",
            "38/38 [==============================] - 8s 203ms/step - loss: 5.6317e-04\n",
            "Epoch 22/100\n",
            "38/38 [==============================] - 8s 213ms/step - loss: 5.2391e-04\n",
            "Epoch 23/100\n",
            "38/38 [==============================] - 8s 212ms/step - loss: 4.9549e-04\n",
            "Epoch 24/100\n",
            "38/38 [==============================] - 8s 216ms/step - loss: 5.2229e-04\n",
            "Epoch 25/100\n",
            "38/38 [==============================] - 8s 204ms/step - loss: 5.0969e-04\n",
            "Epoch 26/100\n",
            "38/38 [==============================] - 8s 210ms/step - loss: 4.7355e-04\n",
            "Epoch 27/100\n",
            "38/38 [==============================] - 8s 206ms/step - loss: 4.8378e-04\n",
            "Epoch 28/100\n",
            "38/38 [==============================] - 8s 214ms/step - loss: 4.9608e-04\n",
            "Epoch 29/100\n",
            "38/38 [==============================] - 8s 208ms/step - loss: 4.4183e-04\n",
            "Epoch 30/100\n",
            "38/38 [==============================] - 8s 207ms/step - loss: 4.4524e-04\n",
            "Epoch 31/100\n",
            "38/38 [==============================] - 8s 209ms/step - loss: 4.3608e-04\n",
            "Epoch 32/100\n",
            "38/38 [==============================] - 8s 212ms/step - loss: 4.7978e-04\n",
            "Epoch 33/100\n",
            "38/38 [==============================] - 8s 209ms/step - loss: 4.3972e-04\n",
            "Epoch 34/100\n",
            "38/38 [==============================] - 8s 211ms/step - loss: 5.2256e-04\n",
            "Epoch 35/100\n",
            "38/38 [==============================] - 8s 209ms/step - loss: 4.2981e-04\n",
            "Epoch 36/100\n",
            "38/38 [==============================] - 8s 213ms/step - loss: 3.9896e-04\n",
            "Epoch 37/100\n",
            "38/38 [==============================] - 8s 206ms/step - loss: 3.8277e-04\n",
            "Epoch 38/100\n",
            "38/38 [==============================] - 8s 207ms/step - loss: 3.9867e-04\n",
            "Epoch 39/100\n",
            "38/38 [==============================] - 8s 207ms/step - loss: 3.8652e-04\n",
            "Epoch 40/100\n",
            "38/38 [==============================] - 8s 208ms/step - loss: 3.5535e-04\n",
            "Epoch 41/100\n",
            "38/38 [==============================] - 8s 212ms/step - loss: 3.7603e-04\n",
            "Epoch 42/100\n",
            "38/38 [==============================] - 8s 217ms/step - loss: 3.3499e-04\n",
            "Epoch 43/100\n",
            "38/38 [==============================] - 8s 210ms/step - loss: 3.3353e-04\n",
            "Epoch 44/100\n",
            "38/38 [==============================] - 8s 215ms/step - loss: 3.2695e-04\n",
            "Epoch 45/100\n",
            "38/38 [==============================] - 8s 222ms/step - loss: 3.5728e-04\n",
            "Epoch 46/100\n",
            "38/38 [==============================] - 8s 213ms/step - loss: 3.4353e-04\n",
            "Epoch 47/100\n",
            "38/38 [==============================] - 8s 212ms/step - loss: 3.4167e-04\n",
            "Epoch 48/100\n",
            "38/38 [==============================] - 8s 211ms/step - loss: 3.3190e-04\n",
            "Epoch 49/100\n",
            "38/38 [==============================] - 8s 214ms/step - loss: 3.4258e-04\n",
            "Epoch 50/100\n",
            "38/38 [==============================] - 8s 214ms/step - loss: 3.3156e-04\n",
            "Epoch 51/100\n",
            "38/38 [==============================] - 8s 218ms/step - loss: 3.1454e-04\n",
            "Epoch 52/100\n",
            "38/38 [==============================] - 8s 210ms/step - loss: 3.2395e-04\n",
            "Epoch 53/100\n",
            "38/38 [==============================] - 9s 239ms/step - loss: 3.6166e-04\n",
            "Epoch 54/100\n",
            "38/38 [==============================] - 9s 243ms/step - loss: 2.9017e-04\n",
            "Epoch 55/100\n",
            "38/38 [==============================] - 9s 236ms/step - loss: 3.1425e-04\n",
            "Epoch 56/100\n",
            "38/38 [==============================] - 9s 230ms/step - loss: 2.7959e-04\n",
            "Epoch 57/100\n",
            "38/38 [==============================] - 9s 226ms/step - loss: 2.9016e-04\n",
            "Epoch 58/100\n",
            "38/38 [==============================] - 9s 232ms/step - loss: 2.9708e-04\n",
            "Epoch 59/100\n",
            "38/38 [==============================] - 9s 231ms/step - loss: 3.6851e-04\n",
            "Epoch 60/100\n",
            "38/38 [==============================] - 9s 231ms/step - loss: 3.0348e-04\n",
            "Epoch 61/100\n",
            "38/38 [==============================] - 9s 228ms/step - loss: 2.7661e-04\n",
            "Epoch 62/100\n",
            "38/38 [==============================] - 9s 230ms/step - loss: 2.8954e-04\n",
            "Epoch 63/100\n",
            "38/38 [==============================] - 8s 206ms/step - loss: 2.9220e-04\n",
            "Epoch 64/100\n",
            "38/38 [==============================] - 8s 213ms/step - loss: 2.7993e-04\n",
            "Epoch 65/100\n",
            "38/38 [==============================] - 8s 211ms/step - loss: 2.7223e-04\n",
            "Epoch 66/100\n",
            "38/38 [==============================] - 8s 215ms/step - loss: 2.6544e-04\n",
            "Epoch 67/100\n",
            "38/38 [==============================] - 8s 215ms/step - loss: 2.6239e-04\n",
            "Epoch 68/100\n",
            "38/38 [==============================] - 9s 224ms/step - loss: 2.7869e-04\n",
            "Epoch 69/100\n",
            "38/38 [==============================] - 9s 229ms/step - loss: 2.6927e-04\n",
            "Epoch 70/100\n",
            "38/38 [==============================] - 8s 219ms/step - loss: 2.9311e-04\n",
            "Epoch 71/100\n",
            "38/38 [==============================] - 8s 213ms/step - loss: 2.7265e-04\n",
            "Epoch 72/100\n",
            "38/38 [==============================] - 8s 218ms/step - loss: 2.7327e-04\n",
            "Epoch 73/100\n",
            "38/38 [==============================] - 9s 230ms/step - loss: 2.4978e-04\n",
            "Epoch 74/100\n",
            "38/38 [==============================] - 8s 215ms/step - loss: 2.7063e-04\n",
            "Epoch 75/100\n",
            "38/38 [==============================] - 8s 216ms/step - loss: 2.5541e-04\n",
            "Epoch 76/100\n",
            "38/38 [==============================] - 8s 223ms/step - loss: 2.4458e-04\n",
            "Epoch 77/100\n",
            "38/38 [==============================] - 8s 214ms/step - loss: 2.9025e-04\n",
            "Epoch 78/100\n",
            "38/38 [==============================] - 8s 219ms/step - loss: 2.5443e-04\n",
            "Epoch 79/100\n",
            "38/38 [==============================] - 8s 212ms/step - loss: 2.4305e-04\n",
            "Epoch 80/100\n",
            "38/38 [==============================] - 8s 213ms/step - loss: 2.5816e-04\n",
            "Epoch 81/100\n",
            "38/38 [==============================] - 8s 213ms/step - loss: 2.4913e-04\n",
            "Epoch 82/100\n",
            "38/38 [==============================] - 8s 209ms/step - loss: 2.4720e-04\n",
            "Epoch 83/100\n",
            "38/38 [==============================] - 8s 209ms/step - loss: 2.3596e-04\n",
            "Epoch 84/100\n",
            "38/38 [==============================] - 8s 209ms/step - loss: 2.3424e-04\n",
            "Epoch 85/100\n",
            "38/38 [==============================] - 8s 211ms/step - loss: 2.3394e-04\n",
            "Epoch 86/100\n",
            "38/38 [==============================] - 8s 211ms/step - loss: 2.3351e-04\n",
            "Epoch 87/100\n",
            "38/38 [==============================] - 8s 214ms/step - loss: 2.0899e-04\n",
            "Epoch 88/100\n",
            "38/38 [==============================] - 8s 217ms/step - loss: 2.4523e-04\n",
            "Epoch 89/100\n",
            "38/38 [==============================] - 8s 214ms/step - loss: 2.1872e-04\n",
            "Epoch 90/100\n",
            "38/38 [==============================] - 8s 205ms/step - loss: 2.2249e-04\n",
            "Epoch 91/100\n",
            "38/38 [==============================] - 8s 208ms/step - loss: 2.2533e-04\n",
            "Epoch 92/100\n",
            "38/38 [==============================] - 8s 207ms/step - loss: 2.1902e-04\n",
            "Epoch 93/100\n",
            "38/38 [==============================] - 8s 205ms/step - loss: 2.2451e-04\n",
            "Epoch 94/100\n",
            "38/38 [==============================] - 8s 205ms/step - loss: 2.0453e-04\n",
            "Epoch 95/100\n",
            "38/38 [==============================] - 8s 209ms/step - loss: 2.3277e-04\n",
            "Epoch 96/100\n",
            "38/38 [==============================] - 8s 207ms/step - loss: 2.2865e-04\n",
            "Epoch 97/100\n",
            "38/38 [==============================] - 8s 208ms/step - loss: 2.4461e-04\n",
            "Epoch 98/100\n",
            "38/38 [==============================] - 8s 210ms/step - loss: 2.3903e-04\n",
            "Epoch 99/100\n",
            "38/38 [==============================] - 8s 204ms/step - loss: 2.7843e-04\n",
            "Epoch 100/100\n",
            "38/38 [==============================] - 8s 206ms/step - loss: 2.2897e-04\n"
          ],
          "name": "stdout"
        },
        {
          "output_type": "execute_result",
          "data": {
            "text/plain": [
              "<tensorflow.python.keras.callbacks.History at 0x7f0625beaa58>"
            ]
          },
          "metadata": {
            "tags": []
          },
          "execution_count": 40
        }
      ]
    },
    {
      "cell_type": "markdown",
      "metadata": {
        "id": "pQbqkn6sW5pW",
        "colab_type": "text"
      },
      "source": [
        "**Preparing the Test data for prediction**"
      ]
    },
    {
      "cell_type": "code",
      "metadata": {
        "id": "oQTU4ANsJY11",
        "colab_type": "code",
        "colab": {}
      },
      "source": [
        "#predicting test data values, using past 90 from the train data\n",
        "inputs = all_data[len(all_data) - len(valid)-90:].values\n",
        "inputs = inputs.reshape(-1,1)\n",
        "inputs  = scaler.transform(inputs)"
      ],
      "execution_count": 41,
      "outputs": []
    },
    {
      "cell_type": "code",
      "metadata": {
        "id": "IHMF_N4fNEKT",
        "colab_type": "code",
        "colab": {
          "base_uri": "https://localhost:8080/",
          "height": 34
        },
        "outputId": "3c84968e-7014-472d-92b6-6e797775cd87"
      },
      "source": [
        "inputs.shape"
      ],
      "execution_count": 42,
      "outputs": [
        {
          "output_type": "execute_result",
          "data": {
            "text/plain": [
              "(731, 1)"
            ]
          },
          "metadata": {
            "tags": []
          },
          "execution_count": 42
        }
      ]
    },
    {
      "cell_type": "code",
      "metadata": {
        "id": "7oEHZ7PTNHB4",
        "colab_type": "code",
        "colab": {}
      },
      "source": [
        "X_test = []\n",
        "for i in range(90,inputs.shape[0]):\n",
        "    X_test.append(inputs[i-90:i,0])\n",
        "X_test = np.array(X_test)"
      ],
      "execution_count": 43,
      "outputs": []
    },
    {
      "cell_type": "code",
      "metadata": {
        "id": "KfNm2qvMNKLY",
        "colab_type": "code",
        "colab": {
          "base_uri": "https://localhost:8080/",
          "height": 238
        },
        "outputId": "31be08c5-d6fb-4baf-9175-2d056adb9171"
      },
      "source": [
        "X_test"
      ],
      "execution_count": 44,
      "outputs": [
        {
          "output_type": "execute_result",
          "data": {
            "text/plain": [
              "array([[0.02338107, 0.02343312, 0.02362603, ..., 0.03778449, 0.03818561,\n",
              "        0.03984519],\n",
              "       [0.02343312, 0.02362603, 0.02365358, ..., 0.03818561, 0.03984519,\n",
              "        0.04037797],\n",
              "       [0.02362603, 0.02365358, 0.02346068, ..., 0.03984519, 0.04037797,\n",
              "        0.03974108],\n",
              "       ...,\n",
              "       [0.00653727, 0.00706699, 0.00936039, ..., 0.02577858, 0.02520905,\n",
              "        0.02598679],\n",
              "       [0.00706699, 0.00936039, 0.008056  , ..., 0.02520905, 0.02598679,\n",
              "        0.02575714],\n",
              "       [0.00936039, 0.008056  , 0.00846017, ..., 0.02598679, 0.02575714,\n",
              "        0.02503452]])"
            ]
          },
          "metadata": {
            "tags": []
          },
          "execution_count": 44
        }
      ]
    },
    {
      "cell_type": "code",
      "metadata": {
        "id": "9d0L9_l5NM-P",
        "colab_type": "code",
        "colab": {
          "base_uri": "https://localhost:8080/",
          "height": 34
        },
        "outputId": "6a2446a5-8b8a-414b-938f-96c7406db28e"
      },
      "source": [
        "X_test.shape"
      ],
      "execution_count": 45,
      "outputs": [
        {
          "output_type": "execute_result",
          "data": {
            "text/plain": [
              "(641, 90)"
            ]
          },
          "metadata": {
            "tags": []
          },
          "execution_count": 45
        }
      ]
    },
    {
      "cell_type": "code",
      "metadata": {
        "id": "v5QnJjg8NPwy",
        "colab_type": "code",
        "colab": {}
      },
      "source": [
        "X_test = np.reshape(X_test, (X_test.shape[0],X_test.shape[1],1))\n",
        "preds = model.predict(X_test)\n",
        "preds = scaler.inverse_transform(preds)"
      ],
      "execution_count": 46,
      "outputs": []
    },
    {
      "cell_type": "code",
      "metadata": {
        "id": "0s17gEqmNSWR",
        "colab_type": "code",
        "colab": {
          "base_uri": "https://localhost:8080/",
          "height": 1000
        },
        "outputId": "93838f69-bc40-4a85-e18f-157175707c1f"
      },
      "source": [
        "preds"
      ],
      "execution_count": 47,
      "outputs": [
        {
          "output_type": "execute_result",
          "data": {
            "text/plain": [
              "array([[1289.8188 ],\n",
              "       [1303.6515 ],\n",
              "       [1308.7808 ],\n",
              "       [1311.2748 ],\n",
              "       [1307.949  ],\n",
              "       [1296.3668 ],\n",
              "       [1284.7076 ],\n",
              "       [1277.8086 ],\n",
              "       [1273.4635 ],\n",
              "       [1259.9264 ],\n",
              "       [1248.3718 ],\n",
              "       [1251.974  ],\n",
              "       [1250.0455 ],\n",
              "       [1242.9579 ],\n",
              "       [1235.1604 ],\n",
              "       [1236.6605 ],\n",
              "       [1246.135  ],\n",
              "       [1255.4777 ],\n",
              "       [1262.39   ],\n",
              "       [1269.6156 ],\n",
              "       [1279.384  ],\n",
              "       [1284.516  ],\n",
              "       [1279.6134 ],\n",
              "       [1277.9507 ],\n",
              "       [1287.6405 ],\n",
              "       [1293.2859 ],\n",
              "       [1292.6116 ],\n",
              "       [1288.5713 ],\n",
              "       [1282.7109 ],\n",
              "       [1283.4725 ],\n",
              "       [1289.07   ],\n",
              "       [1301.96   ],\n",
              "       [1311.1787 ],\n",
              "       [1313.4547 ],\n",
              "       [1313.0507 ],\n",
              "       [1308.3867 ],\n",
              "       [1294.9274 ],\n",
              "       [1290.711  ],\n",
              "       [1293.5709 ],\n",
              "       [1294.8949 ],\n",
              "       [1296.8398 ],\n",
              "       [1293.6127 ],\n",
              "       [1289.0607 ],\n",
              "       [1277.9023 ],\n",
              "       [1270.7986 ],\n",
              "       [1269.8357 ],\n",
              "       [1265.1825 ],\n",
              "       [1269.1604 ],\n",
              "       [1267.3857 ],\n",
              "       [1257.5116 ],\n",
              "       [1249.7968 ],\n",
              "       [1250.6525 ],\n",
              "       [1268.4757 ],\n",
              "       [1288.1677 ],\n",
              "       [1285.0248 ],\n",
              "       [1271.4629 ],\n",
              "       [1261.6559 ],\n",
              "       [1260.7834 ],\n",
              "       [1280.5327 ],\n",
              "       [1303.0106 ],\n",
              "       [1303.4287 ],\n",
              "       [1297.3116 ],\n",
              "       [1298.9438 ],\n",
              "       [1306.6588 ],\n",
              "       [1318.424  ],\n",
              "       [1325.6953 ],\n",
              "       [1322.6489 ],\n",
              "       [1313.8224 ],\n",
              "       [1310.9409 ],\n",
              "       [1305.4406 ],\n",
              "       [1302.6469 ],\n",
              "       [1301.1648 ],\n",
              "       [1305.1572 ],\n",
              "       [1312.4932 ],\n",
              "       [1319.4335 ],\n",
              "       [1321.2638 ],\n",
              "       [1317.7286 ],\n",
              "       [1314.1157 ],\n",
              "       [1311.0497 ],\n",
              "       [1314.9047 ],\n",
              "       [1316.5236 ],\n",
              "       [1329.6318 ],\n",
              "       [1344.6675 ],\n",
              "       [1348.1733 ],\n",
              "       [1346.6866 ],\n",
              "       [1343.0499 ],\n",
              "       [1348.136  ],\n",
              "       [1350.6648 ],\n",
              "       [1357.645  ],\n",
              "       [1356.8046 ],\n",
              "       [1359.26   ],\n",
              "       [1368.2008 ],\n",
              "       [1378.4863 ],\n",
              "       [1385.4608 ],\n",
              "       [1386.792  ],\n",
              "       [1391.8844 ],\n",
              "       [1383.6066 ],\n",
              "       [1389.1603 ],\n",
              "       [1393.5542 ],\n",
              "       [1384.9747 ],\n",
              "       [1375.817  ],\n",
              "       [1372.4336 ],\n",
              "       [1373.0437 ],\n",
              "       [1383.621  ],\n",
              "       [1395.2001 ],\n",
              "       [1398.53   ],\n",
              "       [1404.6199 ],\n",
              "       [1416.4786 ],\n",
              "       [1435.8484 ],\n",
              "       [1456.9954 ],\n",
              "       [1466.5057 ],\n",
              "       [1444.7628 ],\n",
              "       [1421.7485 ],\n",
              "       [1415.9685 ],\n",
              "       [1420.2759 ],\n",
              "       [1432.5902 ],\n",
              "       [1432.1003 ],\n",
              "       [1434.8485 ],\n",
              "       [1444.17   ],\n",
              "       [1449.7034 ],\n",
              "       [1448.9437 ],\n",
              "       [1444.2596 ],\n",
              "       [1452.4836 ],\n",
              "       [1465.5034 ],\n",
              "       [1482.1211 ],\n",
              "       [1495.4928 ],\n",
              "       [1497.9701 ],\n",
              "       [1495.8804 ],\n",
              "       [1485.4778 ],\n",
              "       [1482.2689 ],\n",
              "       [1479.7107 ],\n",
              "       [1477.8809 ],\n",
              "       [1481.0166 ],\n",
              "       [1483.193  ],\n",
              "       [1486.3253 ],\n",
              "       [1486.4325 ],\n",
              "       [1491.6871 ],\n",
              "       [1498.9056 ],\n",
              "       [1512.312  ],\n",
              "       [1522.1729 ],\n",
              "       [1534.3606 ],\n",
              "       [1543.0664 ],\n",
              "       [1529.3018 ],\n",
              "       [1513.4644 ],\n",
              "       [1510.5254 ],\n",
              "       [1506.6188 ],\n",
              "       [1517.2745 ],\n",
              "       [1532.4417 ],\n",
              "       [1536.0812 ],\n",
              "       [1535.773  ],\n",
              "       [1544.3569 ],\n",
              "       [1550.2551 ],\n",
              "       [1288.8319 ],\n",
              "       [1036.2804 ],\n",
              "       [ 907.5266 ],\n",
              "       [ 877.235  ],\n",
              "       [ 885.34924],\n",
              "       [ 896.2423 ],\n",
              "       [ 900.7139 ],\n",
              "       [ 894.3811 ],\n",
              "       [ 882.0407 ],\n",
              "       [ 869.9731 ],\n",
              "       [ 863.9374 ],\n",
              "       [ 858.6834 ],\n",
              "       [ 861.4197 ],\n",
              "       [ 870.60236],\n",
              "       [ 876.45685],\n",
              "       [ 881.7682 ],\n",
              "       [ 887.8411 ],\n",
              "       [ 898.4449 ],\n",
              "       [ 900.6256 ],\n",
              "       [ 890.9044 ],\n",
              "       [ 887.3433 ],\n",
              "       [ 885.00226],\n",
              "       [ 884.5312 ],\n",
              "       [ 878.4937 ],\n",
              "       [ 862.38666],\n",
              "       [ 850.48206],\n",
              "       [ 852.31433],\n",
              "       [ 856.70105],\n",
              "       [ 862.2431 ],\n",
              "       [ 857.59796],\n",
              "       [ 848.78265],\n",
              "       [ 834.27325],\n",
              "       [ 820.3734 ],\n",
              "       [ 811.99927],\n",
              "       [ 803.4225 ],\n",
              "       [ 801.28754],\n",
              "       [ 807.5574 ],\n",
              "       [ 823.3685 ],\n",
              "       [ 828.89575],\n",
              "       [ 825.53687],\n",
              "       [ 822.08813],\n",
              "       [ 820.85596],\n",
              "       [ 824.3044 ],\n",
              "       [ 822.58844],\n",
              "       [ 820.8414 ],\n",
              "       [ 820.82336],\n",
              "       [ 817.05975],\n",
              "       [ 814.21356],\n",
              "       [ 811.1598 ],\n",
              "       [ 809.32855],\n",
              "       [ 804.98364],\n",
              "       [ 793.2083 ],\n",
              "       [ 783.69714],\n",
              "       [ 779.5489 ],\n",
              "       [ 784.96436],\n",
              "       [ 801.2656 ],\n",
              "       [ 812.7826 ],\n",
              "       [ 819.1225 ],\n",
              "       [ 822.3704 ],\n",
              "       [ 828.8928 ],\n",
              "       [ 833.27295],\n",
              "       [ 830.4657 ],\n",
              "       [ 831.39594],\n",
              "       [ 829.468  ],\n",
              "       [ 828.80695],\n",
              "       [ 830.67883],\n",
              "       [ 839.5384 ],\n",
              "       [ 850.43024],\n",
              "       [ 853.06354],\n",
              "       [ 844.80255],\n",
              "       [ 831.90204],\n",
              "       [ 823.84985],\n",
              "       [ 813.8598 ],\n",
              "       [ 807.50116],\n",
              "       [ 803.4127 ],\n",
              "       [ 805.8156 ],\n",
              "       [ 809.5456 ],\n",
              "       [ 812.2789 ],\n",
              "       [ 815.4436 ],\n",
              "       [ 818.9585 ],\n",
              "       [ 821.2358 ],\n",
              "       [ 819.31445],\n",
              "       [ 820.4747 ],\n",
              "       [ 822.36847],\n",
              "       [ 825.8398 ],\n",
              "       [ 829.96906],\n",
              "       [ 834.07324],\n",
              "       [ 843.1328 ],\n",
              "       [ 859.5095 ],\n",
              "       [ 875.71075],\n",
              "       [ 883.76324],\n",
              "       [ 884.7246 ],\n",
              "       [ 888.36237],\n",
              "       [ 892.56146],\n",
              "       [ 890.4085 ],\n",
              "       [ 886.8267 ],\n",
              "       [ 884.1226 ],\n",
              "       [ 882.0663 ],\n",
              "       [ 880.9078 ],\n",
              "       [ 879.66437],\n",
              "       [ 887.05615],\n",
              "       [ 897.50806],\n",
              "       [ 903.76306],\n",
              "       [ 905.17804],\n",
              "       [ 907.45776],\n",
              "       [ 909.87714],\n",
              "       [ 910.3149 ],\n",
              "       [ 910.6115 ],\n",
              "       [ 906.62195],\n",
              "       [ 904.19086],\n",
              "       [ 898.4619 ],\n",
              "       [ 894.2166 ],\n",
              "       [ 892.1802 ],\n",
              "       [ 885.63635],\n",
              "       [ 885.4395 ],\n",
              "       [ 885.5561 ],\n",
              "       [ 885.6094 ],\n",
              "       [ 892.65955],\n",
              "       [ 895.2592 ],\n",
              "       [ 891.8595 ],\n",
              "       [ 887.5197 ],\n",
              "       [ 887.79346],\n",
              "       [ 886.6167 ],\n",
              "       [ 885.0358 ],\n",
              "       [ 880.73376],\n",
              "       [ 873.315  ],\n",
              "       [ 867.40967],\n",
              "       [ 863.13   ],\n",
              "       [ 861.5209 ],\n",
              "       [ 861.37146],\n",
              "       [ 865.17566],\n",
              "       [ 865.8923 ],\n",
              "       [ 868.9718 ],\n",
              "       [ 877.99976],\n",
              "       [ 887.15546],\n",
              "       [ 889.54956],\n",
              "       [ 885.76117],\n",
              "       [ 882.41425],\n",
              "       [ 884.11456],\n",
              "       [ 889.4201 ],\n",
              "       [ 897.78326],\n",
              "       [ 905.3824 ],\n",
              "       [ 907.2626 ],\n",
              "       [ 904.26483],\n",
              "       [ 905.07336],\n",
              "       [ 910.35504],\n",
              "       [ 912.66327],\n",
              "       [ 909.7151 ],\n",
              "       [ 902.5211 ],\n",
              "       [ 898.67   ],\n",
              "       [ 890.72894],\n",
              "       [ 882.69183],\n",
              "       [ 875.51855],\n",
              "       [ 872.76385],\n",
              "       [ 875.15405],\n",
              "       [ 881.0436 ],\n",
              "       [ 882.60986],\n",
              "       [ 884.7925 ],\n",
              "       [ 891.46014],\n",
              "       [ 889.9209 ],\n",
              "       [ 882.86145],\n",
              "       [ 875.38275],\n",
              "       [ 873.4403 ],\n",
              "       [ 872.76215],\n",
              "       [ 873.0568 ],\n",
              "       [ 872.0477 ],\n",
              "       [ 871.7949 ],\n",
              "       [ 869.9108 ],\n",
              "       [ 868.78424],\n",
              "       [ 874.5679 ],\n",
              "       [ 877.48364],\n",
              "       [ 876.98193],\n",
              "       [ 870.93866],\n",
              "       [ 865.51245],\n",
              "       [ 859.8701 ],\n",
              "       [ 859.2098 ],\n",
              "       [ 860.44415],\n",
              "       [ 868.6017 ],\n",
              "       [ 876.0271 ],\n",
              "       [ 881.6351 ],\n",
              "       [ 885.8763 ],\n",
              "       [ 890.54016],\n",
              "       [ 890.40436],\n",
              "       [ 888.6023 ],\n",
              "       [ 888.6529 ],\n",
              "       [ 894.81226],\n",
              "       [ 901.42346],\n",
              "       [ 904.7561 ],\n",
              "       [ 901.4816 ],\n",
              "       [ 896.3408 ],\n",
              "       [ 893.0547 ],\n",
              "       [ 895.35315],\n",
              "       [ 899.41895],\n",
              "       [ 903.1394 ],\n",
              "       [ 903.373  ],\n",
              "       [ 900.39685],\n",
              "       [ 898.4816 ],\n",
              "       [ 894.80225],\n",
              "       [ 888.6726 ],\n",
              "       [ 884.64355],\n",
              "       [ 882.96   ],\n",
              "       [ 885.73663],\n",
              "       [ 885.8432 ],\n",
              "       [ 885.2787 ],\n",
              "       [ 879.2125 ],\n",
              "       [ 873.1846 ],\n",
              "       [ 869.2502 ],\n",
              "       [ 868.2951 ],\n",
              "       [ 870.2478 ],\n",
              "       [ 874.209  ],\n",
              "       [ 895.925  ],\n",
              "       [ 918.03937],\n",
              "       [ 933.4712 ],\n",
              "       [ 939.82275],\n",
              "       [ 938.23   ],\n",
              "       [ 934.828  ],\n",
              "       [ 935.101  ],\n",
              "       [ 935.85535],\n",
              "       [ 939.36725],\n",
              "       [ 939.9695 ],\n",
              "       [ 940.5053 ],\n",
              "       [ 941.3988 ],\n",
              "       [ 942.26605],\n",
              "       [ 933.70746],\n",
              "       [ 927.0666 ],\n",
              "       [ 924.87225],\n",
              "       [ 924.17706],\n",
              "       [ 924.462  ],\n",
              "       [ 929.3217 ],\n",
              "       [ 934.2803 ],\n",
              "       [ 927.8528 ],\n",
              "       [ 923.0118 ],\n",
              "       [ 921.60266],\n",
              "       [ 923.093  ],\n",
              "       [ 930.3585 ],\n",
              "       [ 939.2875 ],\n",
              "       [ 943.57245],\n",
              "       [ 946.59143],\n",
              "       [ 948.52734],\n",
              "       [ 943.05634],\n",
              "       [ 943.45807],\n",
              "       [ 948.404  ],\n",
              "       [ 955.63885],\n",
              "       [ 960.40857],\n",
              "       [ 964.7006 ],\n",
              "       [ 971.92523],\n",
              "       [ 979.71185],\n",
              "       [ 980.47253],\n",
              "       [ 974.96234],\n",
              "       [ 968.5066 ],\n",
              "       [ 969.4556 ],\n",
              "       [ 972.49646],\n",
              "       [ 975.819  ],\n",
              "       [ 977.2337 ],\n",
              "       [ 973.9238 ],\n",
              "       [ 964.4755 ],\n",
              "       [ 942.05066],\n",
              "       [ 934.454  ],\n",
              "       [ 936.232  ],\n",
              "       [ 935.97845],\n",
              "       [ 934.00336],\n",
              "       [ 940.53064],\n",
              "       [ 943.4659 ],\n",
              "       [ 940.1359 ],\n",
              "       [ 938.79034],\n",
              "       [ 937.9416 ],\n",
              "       [ 935.4392 ],\n",
              "       [ 933.1702 ],\n",
              "       [ 943.55005],\n",
              "       [ 944.62994],\n",
              "       [ 934.2051 ],\n",
              "       [ 925.3562 ],\n",
              "       [ 920.8829 ],\n",
              "       [ 919.1691 ],\n",
              "       [ 874.44476],\n",
              "       [ 832.4106 ],\n",
              "       [ 805.9767 ],\n",
              "       [ 796.1151 ],\n",
              "       [ 799.08466],\n",
              "       [ 804.7941 ],\n",
              "       [ 811.24744],\n",
              "       [ 823.6372 ],\n",
              "       [ 834.0453 ],\n",
              "       [ 846.5321 ],\n",
              "       [ 850.813  ],\n",
              "       [ 856.08276],\n",
              "       [ 863.6994 ],\n",
              "       [ 865.4302 ],\n",
              "       [ 863.0886 ],\n",
              "       [ 856.29956],\n",
              "       [ 855.9297 ],\n",
              "       [ 858.2846 ],\n",
              "       [ 860.7048 ],\n",
              "       [ 864.6182 ],\n",
              "       [ 867.4746 ],\n",
              "       [ 868.5431 ],\n",
              "       [ 861.2573 ],\n",
              "       [ 855.2182 ],\n",
              "       [ 849.97327],\n",
              "       [ 848.67535],\n",
              "       [ 851.4695 ],\n",
              "       [ 852.37976],\n",
              "       [ 850.3908 ],\n",
              "       [ 850.0606 ],\n",
              "       [ 854.38916],\n",
              "       [ 860.8143 ],\n",
              "       [ 865.2457 ],\n",
              "       [ 867.7644 ],\n",
              "       [ 867.79706],\n",
              "       [ 869.3728 ],\n",
              "       [ 864.5165 ],\n",
              "       [ 862.2219 ],\n",
              "       [ 863.4619 ],\n",
              "       [ 871.01263],\n",
              "       [ 878.83435],\n",
              "       [ 882.5748 ],\n",
              "       [ 883.4403 ],\n",
              "       [ 884.7502 ],\n",
              "       [ 885.064  ],\n",
              "       [ 883.2912 ],\n",
              "       [ 884.39636],\n",
              "       [ 885.002  ],\n",
              "       [ 884.3127 ],\n",
              "       [ 885.46484],\n",
              "       [ 886.21454],\n",
              "       [ 890.34235],\n",
              "       [ 891.66064],\n",
              "       [ 887.11017],\n",
              "       [ 878.78595],\n",
              "       [ 876.0371 ],\n",
              "       [ 880.6752 ],\n",
              "       [ 898.5831 ],\n",
              "       [ 914.8914 ],\n",
              "       [ 920.11127],\n",
              "       [ 918.86957],\n",
              "       [ 916.8772 ],\n",
              "       [ 916.2752 ],\n",
              "       [ 914.60767],\n",
              "       [ 916.00903],\n",
              "       [ 923.3658 ],\n",
              "       [ 929.39594],\n",
              "       [ 930.3449 ],\n",
              "       [ 928.96014],\n",
              "       [ 931.77374],\n",
              "       [ 932.09106],\n",
              "       [ 929.23584],\n",
              "       [ 927.7632 ],\n",
              "       [ 923.3383 ],\n",
              "       [ 926.6641 ],\n",
              "       [ 930.814  ],\n",
              "       [ 928.20557],\n",
              "       [ 925.9894 ],\n",
              "       [ 923.86536],\n",
              "       [ 922.655  ],\n",
              "       [ 924.9732 ],\n",
              "       [ 931.7241 ],\n",
              "       [ 935.2066 ],\n",
              "       [ 936.74176],\n",
              "       [ 940.16785],\n",
              "       [ 944.2097 ],\n",
              "       [ 945.5933 ],\n",
              "       [ 945.0341 ],\n",
              "       [ 945.17865],\n",
              "       [ 940.1783 ],\n",
              "       [ 933.3624 ],\n",
              "       [ 912.4596 ],\n",
              "       [ 897.6565 ],\n",
              "       [ 894.3424 ],\n",
              "       [ 900.3718 ],\n",
              "       [ 905.11475],\n",
              "       [ 900.8696 ],\n",
              "       [ 882.2869 ],\n",
              "       [ 859.29224],\n",
              "       [ 825.17426],\n",
              "       [ 804.16534],\n",
              "       [ 776.53015],\n",
              "       [ 745.63214],\n",
              "       [ 718.44415],\n",
              "       [ 706.9895 ],\n",
              "       [ 719.40405],\n",
              "       [ 714.2708 ],\n",
              "       [ 723.68787],\n",
              "       [ 742.5779 ],\n",
              "       [ 769.49603],\n",
              "       [ 792.12036],\n",
              "       [ 794.7627 ],\n",
              "       [ 794.49695],\n",
              "       [ 781.905  ],\n",
              "       [ 764.0433 ],\n",
              "       [ 771.4407 ],\n",
              "       [ 784.38306],\n",
              "       [ 794.0665 ],\n",
              "       [ 798.6316 ],\n",
              "       [ 800.00323],\n",
              "       [ 794.37213],\n",
              "       [ 789.9037 ],\n",
              "       [ 796.7869 ],\n",
              "       [ 798.235  ],\n",
              "       [ 798.8671 ],\n",
              "       [ 812.56525],\n",
              "       [ 818.5699 ],\n",
              "       [ 820.21063],\n",
              "       [ 818.7509 ],\n",
              "       [ 822.53613],\n",
              "       [ 841.0614 ],\n",
              "       [ 843.0423 ],\n",
              "       [ 836.381  ],\n",
              "       [ 827.62946],\n",
              "       [ 821.8074 ],\n",
              "       [ 822.90186],\n",
              "       [ 829.1738 ],\n",
              "       [ 836.10675],\n",
              "       [ 842.35834],\n",
              "       [ 832.94763],\n",
              "       [ 818.8069 ],\n",
              "       [ 813.71356],\n",
              "       [ 816.2527 ],\n",
              "       [ 820.4155 ],\n",
              "       [ 823.8936 ],\n",
              "       [ 832.697  ],\n",
              "       [ 836.0206 ],\n",
              "       [ 844.1996 ],\n",
              "       [ 852.40314],\n",
              "       [ 851.2534 ],\n",
              "       [ 850.0426 ],\n",
              "       [ 853.329  ],\n",
              "       [ 854.9615 ],\n",
              "       [ 857.27966],\n",
              "       [ 857.7505 ],\n",
              "       [ 863.4356 ],\n",
              "       [ 868.0204 ],\n",
              "       [ 869.28864],\n",
              "       [ 864.616  ],\n",
              "       [ 855.435  ],\n",
              "       [ 846.9397 ],\n",
              "       [ 847.2482 ],\n",
              "       [ 851.72375],\n",
              "       [ 858.9258 ],\n",
              "       [ 860.9965 ],\n",
              "       [ 859.1988 ],\n",
              "       [ 862.97064],\n",
              "       [ 865.4947 ],\n",
              "       [ 861.2345 ],\n",
              "       [ 873.1373 ],\n",
              "       [ 881.6733 ],\n",
              "       [ 885.6802 ],\n",
              "       [ 885.339  ],\n",
              "       [ 892.6734 ],\n",
              "       [ 902.86273],\n",
              "       [ 910.1188 ],\n",
              "       [ 924.0715 ],\n",
              "       [ 928.6243 ],\n",
              "       [ 929.6867 ],\n",
              "       [ 929.9753 ],\n",
              "       [ 935.68353],\n",
              "       [ 936.53613],\n",
              "       [ 951.8692 ],\n",
              "       [ 996.2168 ],\n",
              "       [1030.4852 ],\n",
              "       [1056.1112 ],\n",
              "       [1070.143  ],\n",
              "       [1068.1387 ],\n",
              "       [1058.4581 ],\n",
              "       [1056.888  ],\n",
              "       [1069.4817 ],\n",
              "       [1087.4454 ],\n",
              "       [1096.1011 ],\n",
              "       [1099.8176 ],\n",
              "       [1102.3685 ],\n",
              "       [1100.3273 ],\n",
              "       [1094.736  ],\n",
              "       [1088.4476 ],\n",
              "       [1094.161  ],\n",
              "       [1094.9617 ],\n",
              "       [1092.6083 ],\n",
              "       [1089.245  ],\n",
              "       [1089.3237 ],\n",
              "       [1089.3536 ],\n",
              "       [1089.9205 ],\n",
              "       [1091.9176 ],\n",
              "       [1097.3237 ],\n",
              "       [1098.8322 ],\n",
              "       [1096.5304 ],\n",
              "       [1091.8136 ],\n",
              "       [1087.9822 ],\n",
              "       [1082.9857 ],\n",
              "       [1084.223  ],\n",
              "       [1086.2246 ],\n",
              "       [1082.9537 ]], dtype=float32)"
            ]
          },
          "metadata": {
            "tags": []
          },
          "execution_count": 47
        }
      ]
    },
    {
      "cell_type": "markdown",
      "metadata": {
        "id": "cuCDDTuMXD3E",
        "colab_type": "text"
      },
      "source": [
        "**Calculating the RMSE to evaluate the model performance**"
      ]
    },
    {
      "cell_type": "code",
      "metadata": {
        "id": "Ty8i7YbeNVWB",
        "colab_type": "code",
        "colab": {}
      },
      "source": [
        "rms=np.sqrt(np.mean(np.power((valid-preds),2)))"
      ],
      "execution_count": 48,
      "outputs": []
    },
    {
      "cell_type": "markdown",
      "metadata": {
        "id": "YKtdJAIfXH0G",
        "colab_type": "text"
      },
      "source": [
        "**Plotting the output**"
      ]
    },
    {
      "cell_type": "code",
      "metadata": {
        "id": "oXWx5ZFDNa5A",
        "colab_type": "code",
        "colab": {
          "base_uri": "https://localhost:8080/",
          "height": 530
        },
        "outputId": "e0953c44-6c48-4740-ed91-804f1ed8c709"
      },
      "source": [
        "#for plotting\n",
        "train = all_data[2000:4500]\n",
        "valid = all_data[4500:]\n",
        "valid['Predictions'] = preds\n",
        "plt.figure(figsize=(20,8))\n",
        "plt.plot(train['Close'])\n",
        "plt.plot(valid['Close'], color = 'blue', label = 'Real Price')\n",
        "plt.plot(valid['Predictions'], color = 'red', label = 'Predicted Price')\n",
        "plt.title('INFY price prediction')\n",
        "plt.legend()\n",
        "plt.show()"
      ],
      "execution_count": 49,
      "outputs": [
        {
          "output_type": "stream",
          "text": [
            "/usr/local/lib/python3.6/dist-packages/ipykernel_launcher.py:4: SettingWithCopyWarning: \n",
            "A value is trying to be set on a copy of a slice from a DataFrame.\n",
            "Try using .loc[row_indexer,col_indexer] = value instead\n",
            "\n",
            "See the caveats in the documentation: https://pandas.pydata.org/pandas-docs/stable/user_guide/indexing.html#returning-a-view-versus-a-copy\n",
            "  after removing the cwd from sys.path.\n"
          ],
          "name": "stderr"
        },
        {
          "output_type": "display_data",
          "data": {
            "image/png": "[encoded data removed]",
            "text/plain": [
              "<Figure size 1440x576 with 1 Axes>"
            ]
          },
          "metadata": {
            "tags": [],
            "needs_background": "light"
          }
        }
      ]
    },
    {
      "cell_type": "code",
      "metadata": {
        "id": "3XvQhZFNNejN",
        "colab_type": "code",
        "colab": {}
      },
      "source": [
        ""
      ],
      "execution_count": null,
      "outputs": []
    }
  ]
}